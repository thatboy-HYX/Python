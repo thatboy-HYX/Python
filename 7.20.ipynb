{
 "cells": [
  {
   "cell_type": "markdown",
   "metadata": {},
   "source": [
    "# 函数\n",
    "\n",
    "- 函数可以用来定义可重复代码，组织和简化\n",
    "- 一般来说一个函数在实际开发中为一个小功能\n",
    "- 一个类为一个大功能\n",
    "- 同样函数的长度不要超过一屏"
   ]
  },
  {
   "cell_type": "markdown",
   "metadata": {},
   "source": [
    "Python中的所有函数实际上都是有返回值(return None),\n",
    "\n",
    "如果你没有设置return,那么Python将不显示None.\n",
    "\n",
    "如果你设置return,那么将返回出return这个值."
   ]
  },
  {
   "cell_type": "code",
   "execution_count": 29,
   "metadata": {},
   "outputs": [],
   "source": [
    "def HJN():\n",
    "    print('Hello')\n",
    "    return 1000"
   ]
  },
  {
   "cell_type": "code",
   "execution_count": 30,
   "metadata": {},
   "outputs": [
    {
     "name": "stdout",
     "output_type": "stream",
     "text": [
      "Hello\n",
      "1000\n"
     ]
    }
   ],
   "source": [
    "b=HJN()\n",
    "print(b)"
   ]
  },
  {
   "cell_type": "code",
   "execution_count": 3,
   "metadata": {},
   "outputs": [
    {
     "data": {
      "text/plain": [
       "<function __main__.HJN()>"
      ]
     },
     "execution_count": 3,
     "metadata": {},
     "output_type": "execute_result"
    }
   ],
   "source": [
    "HJN"
   ]
  },
  {
   "cell_type": "code",
   "execution_count": 10,
   "metadata": {},
   "outputs": [],
   "source": [
    "def panduan(number):\n",
    "    if number % 2 == 0:\n",
    "        print('O')\n",
    "    else:\n",
    "        print('J')"
   ]
  },
  {
   "cell_type": "code",
   "execution_count": 13,
   "metadata": {},
   "outputs": [
    {
     "name": "stdout",
     "output_type": "stream",
     "text": [
      "J\n"
     ]
    }
   ],
   "source": [
    "panduan(number=1)"
   ]
  },
  {
   "cell_type": "code",
   "execution_count": 12,
   "metadata": {},
   "outputs": [
    {
     "name": "stdout",
     "output_type": "stream",
     "text": [
      "O\n"
     ]
    }
   ],
   "source": [
    "panduan(2)"
   ]
  },
  {
   "cell_type": "markdown",
   "metadata": {},
   "source": [
    "## 定义一个函数\n",
    "\n",
    "def function_name(list of parameters):\n",
    "    \n",
    "    do something\n",
    "![](../Photo/69.png)\n",
    "- 以前使用的random 或者range 或者print.. 其实都是函数或者类"
   ]
  },
  {
   "cell_type": "markdown",
   "metadata": {},
   "source": [
    "函数的参数如果有默认值的情况,当你调用该函数的时候:\n",
    "可以不给予参数值,那么就会走该参数的默认值\n",
    "否则的话,就走你给予的参数值."
   ]
  },
  {
   "cell_type": "code",
   "execution_count": 31,
   "metadata": {},
   "outputs": [],
   "source": [
    "import random"
   ]
  },
  {
   "cell_type": "code",
   "execution_count": null,
   "metadata": {},
   "outputs": [],
   "source": [
    "def hahah():\n",
    "    n = random.randint(0,5)\n",
    "    while 1:\n",
    "        N = eval(input('>>'))\n",
    "        if n == N:\n",
    "            print('smart')\n",
    "            break\n",
    "        elif n < N:\n",
    "            print('太小了')\n",
    "        elif n > N:\n",
    "            print('太大了')\n"
   ]
  },
  {
   "cell_type": "markdown",
   "metadata": {},
   "source": [
    "## 调用一个函数\n",
    "- functionName()\n",
    "- \"()\" 就代表调用"
   ]
  },
  {
   "cell_type": "code",
   "execution_count": 1,
   "metadata": {},
   "outputs": [],
   "source": [
    "def H():\n",
    "    print('hahaha')"
   ]
  },
  {
   "cell_type": "code",
   "execution_count": 2,
   "metadata": {},
   "outputs": [],
   "source": [
    "def B():\n",
    "    H()"
   ]
  },
  {
   "cell_type": "code",
   "execution_count": 3,
   "metadata": {
    "scrolled": true
   },
   "outputs": [
    {
     "name": "stdout",
     "output_type": "stream",
     "text": [
      "hahaha\n"
     ]
    }
   ],
   "source": [
    "B()"
   ]
  },
  {
   "cell_type": "code",
   "execution_count": 4,
   "metadata": {},
   "outputs": [],
   "source": [
    "def A(f):\n",
    "    f()"
   ]
  },
  {
   "cell_type": "code",
   "execution_count": 5,
   "metadata": {},
   "outputs": [
    {
     "name": "stdout",
     "output_type": "stream",
     "text": [
      "hahaha\n"
     ]
    }
   ],
   "source": [
    "A(B)"
   ]
  },
  {
   "cell_type": "markdown",
   "metadata": {},
   "source": [
    "![](../Photo/70.png)"
   ]
  },
  {
   "cell_type": "markdown",
   "metadata": {},
   "source": [
    "## 带返回值和不带返回值的函数\n",
    "- return 返回的内容\n",
    "- return 返回多个值\n",
    "- 一般情况下，在多个函数协同完成一个功能的时候，那么将会有返回值"
   ]
  },
  {
   "cell_type": "markdown",
   "metadata": {},
   "source": [
    "![](../Photo/71.png)\n",
    "\n",
    "- 当然也可以自定义返回None"
   ]
  },
  {
   "cell_type": "markdown",
   "metadata": {},
   "source": [
    "## EP：\n",
    "![](../Photo/72.png)"
   ]
  },
  {
   "cell_type": "code",
   "execution_count": 8,
   "metadata": {},
   "outputs": [],
   "source": [
    "def main():\n",
    "    print(min(min(5,6),(51,6)))\n",
    "def min(n1,n2):\n",
    "    a = n1\n",
    "    if n2 < a:\n",
    "        a = n2"
   ]
  },
  {
   "cell_type": "code",
   "execution_count": 9,
   "metadata": {},
   "outputs": [
    {
     "ename": "TypeError",
     "evalue": "'<' not supported between instances of 'tuple' and 'NoneType'",
     "output_type": "error",
     "traceback": [
      "\u001b[0;31m---------------------------------------------------------------------------\u001b[0m",
      "\u001b[0;31mTypeError\u001b[0m                                 Traceback (most recent call last)",
      "\u001b[0;32m<ipython-input-9-263240bbee7e>\u001b[0m in \u001b[0;36m<module>\u001b[0;34m\u001b[0m\n\u001b[0;32m----> 1\u001b[0;31m \u001b[0mmain\u001b[0m\u001b[0;34m(\u001b[0m\u001b[0;34m)\u001b[0m\u001b[0;34m\u001b[0m\u001b[0;34m\u001b[0m\u001b[0m\n\u001b[0m",
      "\u001b[0;32m<ipython-input-8-a7c84f32bfda>\u001b[0m in \u001b[0;36mmain\u001b[0;34m()\u001b[0m\n\u001b[1;32m      1\u001b[0m \u001b[0;32mdef\u001b[0m \u001b[0mmain\u001b[0m\u001b[0;34m(\u001b[0m\u001b[0;34m)\u001b[0m\u001b[0;34m:\u001b[0m\u001b[0;34m\u001b[0m\u001b[0;34m\u001b[0m\u001b[0m\n\u001b[0;32m----> 2\u001b[0;31m     \u001b[0mprint\u001b[0m\u001b[0;34m(\u001b[0m\u001b[0mmin\u001b[0m\u001b[0;34m(\u001b[0m\u001b[0mmin\u001b[0m\u001b[0;34m(\u001b[0m\u001b[0;36m5\u001b[0m\u001b[0;34m,\u001b[0m\u001b[0;36m6\u001b[0m\u001b[0;34m)\u001b[0m\u001b[0;34m,\u001b[0m\u001b[0;34m(\u001b[0m\u001b[0;36m51\u001b[0m\u001b[0;34m,\u001b[0m\u001b[0;36m6\u001b[0m\u001b[0;34m)\u001b[0m\u001b[0;34m)\u001b[0m\u001b[0;34m)\u001b[0m\u001b[0;34m\u001b[0m\u001b[0;34m\u001b[0m\u001b[0m\n\u001b[0m\u001b[1;32m      3\u001b[0m \u001b[0;32mdef\u001b[0m \u001b[0mmin\u001b[0m\u001b[0;34m(\u001b[0m\u001b[0mn1\u001b[0m\u001b[0;34m,\u001b[0m\u001b[0mn2\u001b[0m\u001b[0;34m)\u001b[0m\u001b[0;34m:\u001b[0m\u001b[0;34m\u001b[0m\u001b[0;34m\u001b[0m\u001b[0m\n\u001b[1;32m      4\u001b[0m     \u001b[0ma\u001b[0m \u001b[0;34m=\u001b[0m \u001b[0mn1\u001b[0m\u001b[0;34m\u001b[0m\u001b[0;34m\u001b[0m\u001b[0m\n\u001b[1;32m      5\u001b[0m     \u001b[0;32mif\u001b[0m \u001b[0mn2\u001b[0m \u001b[0;34m<\u001b[0m \u001b[0ma\u001b[0m\u001b[0;34m:\u001b[0m\u001b[0;34m\u001b[0m\u001b[0;34m\u001b[0m\u001b[0m\n",
      "\u001b[0;32m<ipython-input-8-a7c84f32bfda>\u001b[0m in \u001b[0;36mmin\u001b[0;34m(n1, n2)\u001b[0m\n\u001b[1;32m      3\u001b[0m \u001b[0;32mdef\u001b[0m \u001b[0mmin\u001b[0m\u001b[0;34m(\u001b[0m\u001b[0mn1\u001b[0m\u001b[0;34m,\u001b[0m\u001b[0mn2\u001b[0m\u001b[0;34m)\u001b[0m\u001b[0;34m:\u001b[0m\u001b[0;34m\u001b[0m\u001b[0;34m\u001b[0m\u001b[0m\n\u001b[1;32m      4\u001b[0m     \u001b[0ma\u001b[0m \u001b[0;34m=\u001b[0m \u001b[0mn1\u001b[0m\u001b[0;34m\u001b[0m\u001b[0;34m\u001b[0m\u001b[0m\n\u001b[0;32m----> 5\u001b[0;31m     \u001b[0;32mif\u001b[0m \u001b[0mn2\u001b[0m \u001b[0;34m<\u001b[0m \u001b[0ma\u001b[0m\u001b[0;34m:\u001b[0m\u001b[0;34m\u001b[0m\u001b[0;34m\u001b[0m\u001b[0m\n\u001b[0m\u001b[1;32m      6\u001b[0m         \u001b[0ma\u001b[0m \u001b[0;34m=\u001b[0m \u001b[0mn2\u001b[0m\u001b[0;34m\u001b[0m\u001b[0;34m\u001b[0m\u001b[0m\n",
      "\u001b[0;31mTypeError\u001b[0m: '<' not supported between instances of 'tuple' and 'NoneType'"
     ]
    }
   ],
   "source": [
    "main()"
   ]
  },
  {
   "cell_type": "markdown",
   "metadata": {},
   "source": [
    "## 类型和关键字参数\n",
    "- 普通参数\n",
    "- 多个参数\n",
    "- 默认值参数\n",
    "- 不定长参数"
   ]
  },
  {
   "cell_type": "markdown",
   "metadata": {},
   "source": [
    "## 普通参数"
   ]
  },
  {
   "cell_type": "markdown",
   "metadata": {},
   "source": [
    "## 多个参数"
   ]
  },
  {
   "cell_type": "markdown",
   "metadata": {},
   "source": [
    "## 默认值参数"
   ]
  },
  {
   "cell_type": "markdown",
   "metadata": {},
   "source": [
    "## 强制命名"
   ]
  },
  {
   "cell_type": "code",
   "execution_count": 60,
   "metadata": {},
   "outputs": [],
   "source": [
    "def U(str_):\n",
    "    xiaoxie = 0\n",
    "    for i in str_:\n",
    "        ASCII = ord(i)\n",
    "        if 97<=ASCII<=122:\n",
    "            xiaoxie +=1\n",
    "        elif xxxx:\n",
    "            daxie += 1\n",
    "        elif xxxx:\n",
    "            shuzi += 1\n",
    "    return xiaoxie,daxie,shuzi"
   ]
  },
  {
   "cell_type": "code",
   "execution_count": 61,
   "metadata": {},
   "outputs": [
    {
     "name": "stdout",
     "output_type": "stream",
     "text": [
      "H\n",
      "J\n",
      "i\n",
      "1\n",
      "2\n"
     ]
    }
   ],
   "source": [
    "U('HJi12')"
   ]
  },
  {
   "cell_type": "markdown",
   "metadata": {},
   "source": [
    "## 不定长参数\n",
    "- \\*args\n",
    "> - 不定长，来多少装多少，不装也是可以的\n",
    "  - 返回的数据类型是元组\n",
    "  - args 名字是可以修改的，只是我们约定俗成的是args\n",
    "- \\**kwargs \n",
    "> - 返回的字典\n",
    "  - 输入的一定要是表达式（键值对）\n",
    "- name,\\*args,name2,\\**kwargs  使用参数名"
   ]
  },
  {
   "cell_type": "code",
   "execution_count": null,
   "metadata": {},
   "outputs": [],
   "source": [
    "def TT(a,b)"
   ]
  },
  {
   "cell_type": "code",
   "execution_count": 51,
   "metadata": {},
   "outputs": [
    {
     "name": "stdout",
     "output_type": "stream",
     "text": [
      "{'a': 100, 'b': 1000}\n",
      "(1, 2, 3, 4, 6)\n"
     ]
    }
   ],
   "source": [
    "def TT(*args,**kwargs):\n",
    "    print(kwargs)\n",
    "    print(args)\n",
    "TT(1,2,3,4,6,a=100,b=1000)"
   ]
  },
  {
   "cell_type": "code",
   "execution_count": 13,
   "metadata": {},
   "outputs": [
    {
     "name": "stdout",
     "output_type": "stream",
     "text": [
      "()\n"
     ]
    }
   ],
   "source": [
    "{'key':'value'}"
   ]
  },
  {
   "cell_type": "code",
   "execution_count": 14,
   "metadata": {
    "scrolled": true
   },
   "outputs": [
    {
     "name": "stdout",
     "output_type": "stream",
     "text": [
      "(1, 2, 4, 5, 7, 8, 9)\n"
     ]
    }
   ],
   "source": [
    "TT(1,2,4,5,7,8,9,)"
   ]
  },
  {
   "cell_type": "code",
   "execution_count": 38,
   "metadata": {},
   "outputs": [],
   "source": [
    "def B(name1,nam3):\n",
    "    pass"
   ]
  },
  {
   "cell_type": "code",
   "execution_count": 39,
   "metadata": {},
   "outputs": [
    {
     "ename": "SyntaxError",
     "evalue": "positional argument follows keyword argument (<ipython-input-39-bd6a38e58465>, line 1)",
     "output_type": "error",
     "traceback": [
      "\u001b[0;36m  File \u001b[0;32m\"<ipython-input-39-bd6a38e58465>\"\u001b[0;36m, line \u001b[0;32m1\u001b[0m\n\u001b[0;31m    B(name1=100,2)\u001b[0m\n\u001b[0m               ^\u001b[0m\n\u001b[0;31mSyntaxError\u001b[0m\u001b[0;31m:\u001b[0m positional argument follows keyword argument\n"
     ]
    }
   ],
   "source": [
    "B(name1=100,2)"
   ]
  },
  {
   "cell_type": "code",
   "execution_count": 43,
   "metadata": {},
   "outputs": [],
   "source": [
    "def sum_(*args,A='sum'):\n",
    "    \n",
    "    res = 0\n",
    "    count = 0\n",
    "    for i in args:\n",
    "        res +=i\n",
    "        count += 1\n",
    "    if A == \"sum\":\n",
    "        return res\n",
    "    elif A == \"mean\":\n",
    "        mean = res / count\n",
    "        return res,mean\n",
    "    else:\n",
    "        print(A,'还未开放')\n",
    "    \n",
    "    "
   ]
  },
  {
   "cell_type": "code",
   "execution_count": 46,
   "metadata": {},
   "outputs": [
    {
     "name": "stdout",
     "output_type": "stream",
     "text": [
      "var 还未开放\n"
     ]
    }
   ],
   "source": [
    "sum_(-1,0,1,4,A='var')"
   ]
  },
  {
   "cell_type": "code",
   "execution_count": null,
   "metadata": {},
   "outputs": [],
   "source": [
    "'aHbK134'.__iter__"
   ]
  },
  {
   "cell_type": "code",
   "execution_count": 48,
   "metadata": {},
   "outputs": [
    {
     "name": "stdout",
     "output_type": "stream",
     "text": [
      "a\n",
      "s\n",
      "d\n",
      "k\n",
      "j\n",
      "f\n",
      "h\n"
     ]
    }
   ],
   "source": [
    "b = 'asdkjfh'\n",
    "for i in b :\n",
    "    print(i)"
   ]
  },
  {
   "cell_type": "code",
   "execution_count": null,
   "metadata": {},
   "outputs": [],
   "source": [
    "2,5\n",
    "2 + 22 + 222 + 2222 + 22222"
   ]
  },
  {
   "cell_type": "markdown",
   "metadata": {},
   "source": [
    "## 变量的作用域\n",
    "- 局部变量 local\n",
    "- 全局变量 global\n",
    "- globals 函数返回一个全局变量的字典，包括所有导入的变量\n",
    "- locals() 函数会以字典类型返回当前位置的全部局部变量。"
   ]
  },
  {
   "cell_type": "code",
   "execution_count": 54,
   "metadata": {},
   "outputs": [
    {
     "name": "stdout",
     "output_type": "stream",
     "text": [
      "1100\n"
     ]
    }
   ],
   "source": [
    "a = 1000\n",
    "b = 10\n",
    "def Y():\n",
    "    global a,b\n",
    "    a += 100\n",
    "    print(a)\n",
    "Y()"
   ]
  },
  {
   "cell_type": "code",
   "execution_count": 55,
   "metadata": {},
   "outputs": [
    {
     "name": "stdout",
     "output_type": "stream",
     "text": [
      "1200\n",
      "1100\n"
     ]
    }
   ],
   "source": [
    "def YY(a1):\n",
    "    a1 += 100\n",
    "    print(a1)\n",
    "YY(a)\n",
    "print(a)"
   ]
  },
  {
   "cell_type": "markdown",
   "metadata": {},
   "source": [
    "## 注意：\n",
    "- global ：在进行赋值操作的时候需要声明\n",
    "- 官方解释：This is because when you make an assignment to a variable in a scope, that variable becomes local to that scope and shadows any similarly named variable in the outer scope.\n",
    "- ![](../Photo/73.png)"
   ]
  },
  {
   "cell_type": "markdown",
   "metadata": {},
   "source": [
    "# Homework\n",
    "- 1\n",
    "![](../Photo/74.png)"
   ]
  },
  {
   "cell_type": "code",
   "execution_count": 1,
   "metadata": {},
   "outputs": [
    {
     "name": "stdout",
     "output_type": "stream",
     "text": [
      "1 5 12 22 35 51 70 92 117 145 \n",
      "\n",
      "176 210 247 287 330 376 425 477 532 590 \n",
      "\n",
      "651 715 782 852 925 1001 1080 1162 1247 1335 \n",
      "\n",
      "1426 1520 1617 1717 1820 1926 2035 2147 2262 2380 \n",
      "\n",
      "2501 2625 2752 2882 3015 3151 3290 3432 3577 3725 \n",
      "\n",
      "3876 4030 4187 4347 4510 4676 4845 5017 5192 5370 \n",
      "\n",
      "5551 5735 5922 6112 6305 6501 6700 6902 7107 7315 \n",
      "\n",
      "7526 7740 7957 8177 8400 8626 8855 9087 9322 9560 \n",
      "\n",
      "9801 10045 10292 10542 10795 11051 11310 11572 11837 12105 \n",
      "\n",
      "12376 12650 12927 13207 13490 13776 14065 14357 14652 14950 \n",
      "\n"
     ]
    }
   ],
   "source": [
    "import math\n",
    "def getPentagonalNumber():\n",
    "    count = 0           \n",
    "    for i in range(1, 101):\n",
    "        a = i * ( 3*i - 1) / 2\n",
    "        print(int(a),end = ' ')\n",
    "        count += 1\n",
    "        if count % 10 == 0:\n",
    "            print('\\n')\n",
    "getPentagonalNumber()"
   ]
  },
  {
   "cell_type": "markdown",
   "metadata": {},
   "source": [
    "- 2 \n",
    "![](../Photo/75.png)"
   ]
  },
  {
   "cell_type": "code",
   "execution_count": 2,
   "metadata": {},
   "outputs": [
    {
     "name": "stdout",
     "output_type": "stream",
     "text": [
      "9\n"
     ]
    }
   ],
   "source": [
    "def sumDigits(n):\n",
    "    a = n % 10\n",
    "    b = n // 100\n",
    "    c = (n // 10) - ((n // 100)*10)\n",
    "    d = a + b + c\n",
    "    print(d)\n",
    "sumDigits(234)"
   ]
  },
  {
   "cell_type": "markdown",
   "metadata": {},
   "source": [
    "- 3\n",
    "![](../Photo/76.png)"
   ]
  },
  {
   "cell_type": "code",
   "execution_count": 3,
   "metadata": {},
   "outputs": [
    {
     "name": "stdout",
     "output_type": "stream",
     "text": [
      "8 3 1\n"
     ]
    }
   ],
   "source": [
    "def displaySortedNumbers(num1,num2,num3):\n",
    "    if num1 > num2 > num3:\n",
    "        print(num1,num2,num3)\n",
    "    elif num1 > num3 > num2:\n",
    "        print(num1,num3,num2)\n",
    "    elif num2 > num1 > num3:\n",
    "        print(num2,num1,num3)\n",
    "    elif num2 > num3 > num1:\n",
    "        print(num2,num3,num1)\n",
    "    elif num3 > num1 > num2:\n",
    "        print(num3,num1,num2)\n",
    "    elif num3 > num2 > num1:\n",
    "        print(num3,num2,num1)\n",
    "displaySortedNumbers(3,8,1)"
   ]
  },
  {
   "cell_type": "markdown",
   "metadata": {},
   "source": [
    "- 4\n",
    "![](../Photo/77.png)"
   ]
  },
  {
   "cell_type": "code",
   "execution_count": 8,
   "metadata": {},
   "outputs": [
    {
     "name": "stdout",
     "output_type": "stream",
     "text": [
      "输入存款金额: 1000\n",
      "输入利率: 9\n",
      "输入年份:10\n",
      "1年内总额10000: \n",
      "2年内总额100000: \n",
      "3年内总额1000000: \n",
      "4年内总额10000000: \n",
      "5年内总额100000000: \n",
      "6年内总额1000000000: \n",
      "7年内总额10000000000: \n",
      "8年内总额100000000000: \n",
      "9年内总额1000000000000: \n",
      "10年内总额10000000000000: \n"
     ]
    }
   ],
   "source": [
    "def futureInvestmentValue(principal,rate,years):\n",
    "    for i in range(years):\n",
    "        principal = principal * (1+rate)\n",
    "        print(\"{}年内总额{}: \".format(i+1,principal))\n",
    "principal = eval(input(\"输入存款金额: \"))\n",
    "rate = eval(input(\"输入利率: \"))\n",
    "years = eval(input(\"输入年份:\" ))\n",
    "futureInvestmentValue(principal,rate,years)"
   ]
  },
  {
   "cell_type": "markdown",
   "metadata": {},
   "source": [
    "- 5\n",
    "![](../Photo/78.png)"
   ]
  },
  {
   "cell_type": "code",
   "execution_count": 2,
   "metadata": {},
   "outputs": [
    {
     "name": "stdout",
     "output_type": "stream",
     "text": [
      "A B C D E F G H I J \n",
      "K L M N O P Q R S T \n",
      "U V W X Y Z "
     ]
    }
   ],
   "source": [
    "li = [chr(i) for i in range(ord(\"A\"),ord(\"Z\")+1)]\n",
    "count=0\n",
    "for i in li:\n",
    "    print(i,end=' ')\n",
    "    count += 1\n",
    "    if(count%10==0):\n",
    "        print(end='\\n')"
   ]
  },
  {
   "cell_type": "markdown",
   "metadata": {},
   "source": [
    "- 6\n",
    "![](../Photo/79.png)"
   ]
  },
  {
   "cell_type": "code",
   "execution_count": 1,
   "metadata": {},
   "outputs": [
    {
     "name": "stdout",
     "output_type": "stream",
     "text": [
      "2010 is 365 day\n",
      "2011 is 365 day\n",
      "2012 is 366 day\n",
      "2013 is 365 day\n",
      "2014 is 365 day\n",
      "2015 is 365 day\n",
      "2016 is 366 day\n",
      "2017 is 365 day\n",
      "2018 is 365 day\n",
      "2019 is 365 day\n",
      "2020 is 366 day\n"
     ]
    }
   ],
   "source": [
    "import math\n",
    "def numberOfDaysInAYear():\n",
    "        for i in range(2010,2021):\n",
    "            if i % 4 == 0 and i % 100 != 0 or i % 400 == 0:\n",
    "                print(i,'is 366 day')\n",
    "            else:\n",
    "                print(i,'is 365 day')        \n",
    "numberOfDaysInAYear()"
   ]
  },
  {
   "cell_type": "markdown",
   "metadata": {},
   "source": [
    "- 7\n",
    "![](../Photo/80.png)"
   ]
  },
  {
   "cell_type": "code",
   "execution_count": 3,
   "metadata": {},
   "outputs": [
    {
     "name": "stdout",
     "output_type": "stream",
     "text": [
      "1,2\n"
     ]
    },
    {
     "ename": "ValueError",
     "evalue": "not enough values to unpack (expected 4, got 2)",
     "output_type": "error",
     "traceback": [
      "\u001b[1;31m---------------------------------------------------------------------------\u001b[0m",
      "\u001b[1;31mValueError\u001b[0m                                Traceback (most recent call last)",
      "\u001b[1;32m<ipython-input-3-a74e6355e0ad>\u001b[0m in \u001b[0;36m<module>\u001b[1;34m\u001b[0m\n\u001b[0;32m      7\u001b[0m     \u001b[0mp4\u001b[0m\u001b[1;33m=\u001b[0m\u001b[0mmath\u001b[0m\u001b[1;33m.\u001b[0m\u001b[0mhypot\u001b[0m\u001b[1;33m(\u001b[0m\u001b[0mp3\u001b[0m\u001b[1;33m[\u001b[0m\u001b[1;36m0\u001b[0m\u001b[1;33m]\u001b[0m\u001b[1;33m,\u001b[0m\u001b[0mp3\u001b[0m\u001b[1;33m[\u001b[0m\u001b[1;36m1\u001b[0m\u001b[1;33m]\u001b[0m\u001b[1;33m)\u001b[0m\u001b[1;33m\u001b[0m\u001b[1;33m\u001b[0m\u001b[0m\n\u001b[0;32m      8\u001b[0m     \u001b[0mprint\u001b[0m\u001b[1;33m(\u001b[0m\u001b[0mp4\u001b[0m\u001b[1;33m)\u001b[0m\u001b[1;33m\u001b[0m\u001b[1;33m\u001b[0m\u001b[0m\n\u001b[1;32m----> 9\u001b[1;33m \u001b[0mx1\u001b[0m\u001b[1;33m,\u001b[0m\u001b[0my1\u001b[0m\u001b[1;33m,\u001b[0m\u001b[0mx2\u001b[0m\u001b[1;33m,\u001b[0m\u001b[0my2\u001b[0m\u001b[1;33m=\u001b[0m\u001b[0mmap\u001b[0m\u001b[1;33m(\u001b[0m\u001b[0mint\u001b[0m\u001b[1;33m,\u001b[0m\u001b[0minput\u001b[0m\u001b[1;33m(\u001b[0m\u001b[1;33m)\u001b[0m\u001b[1;33m.\u001b[0m\u001b[0msplit\u001b[0m\u001b[1;33m(\u001b[0m\u001b[1;34m','\u001b[0m\u001b[1;33m)\u001b[0m\u001b[1;33m)\u001b[0m\u001b[1;33m\u001b[0m\u001b[1;33m\u001b[0m\u001b[0m\n\u001b[0m\u001b[0;32m     10\u001b[0m \u001b[0mxsj\u001b[0m\u001b[1;33m(\u001b[0m\u001b[0mx1\u001b[0m\u001b[1;33m,\u001b[0m\u001b[0my1\u001b[0m\u001b[1;33m,\u001b[0m\u001b[0mx2\u001b[0m\u001b[1;33m,\u001b[0m\u001b[0my2\u001b[0m\u001b[1;33m)\u001b[0m\u001b[1;33m\u001b[0m\u001b[1;33m\u001b[0m\u001b[0m\n",
      "\u001b[1;31mValueError\u001b[0m: not enough values to unpack (expected 4, got 2)"
     ]
    }
   ],
   "source": [
    "import numpy as np\n",
    "import math\n",
    "def xsj(x1,y1,x2,y2):\n",
    "    p1=np.array([x1,y1])\n",
    "    p2=np.array([x2,y2])\n",
    "    p3=p2-p1\n",
    "    p4=math.hypot(p3[0],p3[1])\n",
    "    print(p4)\n",
    "x1,y1,x2,y2=map(int,input().split(','))\n",
    "xsj(x1,y1,x2,y2)"
   ]
  },
  {
   "cell_type": "markdown",
   "metadata": {},
   "source": [
    "- 8\n",
    "![](../Photo/81.png)"
   ]
  },
  {
   "cell_type": "code",
   "execution_count": 2,
   "metadata": {},
   "outputs": [
    {
     "name": "stdout",
     "output_type": "stream",
     "text": [
      "2 的梅森素数是  2\n",
      "3 的梅森素数是  4\n",
      "4 的梅森素数是  8\n",
      "5 的梅森素数是  16\n",
      "6 的梅森素数是  32\n",
      "7 的梅森素数是  64\n",
      "8 的梅森素数是  128\n",
      "9 的梅森素数是  256\n",
      "10 的梅森素数是  512\n",
      "11 的梅森素数是  1024\n",
      "12 的梅森素数是  2048\n",
      "13 的梅森素数是  4096\n",
      "14 的梅森素数是  8192\n",
      "15 的梅森素数是  16384\n",
      "16 的梅森素数是  32768\n",
      "17 的梅森素数是  65536\n",
      "18 的梅森素数是  131072\n",
      "19 的梅森素数是  262144\n",
      "20 的梅森素数是  524288\n",
      "21 的梅森素数是  1048576\n",
      "22 的梅森素数是  2097152\n",
      "23 的梅森素数是  4194304\n",
      "24 的梅森素数是  8388608\n",
      "25 的梅森素数是  16777216\n",
      "26 的梅森素数是  33554432\n",
      "27 的梅森素数是  67108864\n",
      "28 的梅森素数是  134217728\n",
      "29 的梅森素数是  268435456\n",
      "30 的梅森素数是  536870912\n",
      "31 的梅森素数是  1073741824\n"
     ]
    }
   ],
   "source": [
    "def meisen(p):\n",
    "    sum=2**(p-1)\n",
    "    return sum\n",
    "for i in range(2,32):\n",
    "    print(i,'的梅森素数是 ',meisen(i))"
   ]
  },
  {
   "cell_type": "markdown",
   "metadata": {},
   "source": [
    "- 9\n",
    "![](../Photo/82.png)\n",
    "![](../Photo/83.png)"
   ]
  },
  {
   "cell_type": "code",
   "execution_count": 1,
   "metadata": {},
   "outputs": [],
   "source": [
    "import time"
   ]
  },
  {
   "cell_type": "code",
   "execution_count": 13,
   "metadata": {},
   "outputs": [
    {
     "name": "stdout",
     "output_type": "stream",
     "text": [
      "本地时间为 : Sat May 11 08:37:21 2019\n"
     ]
    }
   ],
   "source": [
    "import time\n",
    "\n",
    "localtime = time.asctime(time.localtime(time.time()))\n",
    "print(\"本地时间为 :\", localtime)\n"
   ]
  },
  {
   "cell_type": "code",
   "execution_count": 9,
   "metadata": {},
   "outputs": [
    {
     "data": {
      "text/plain": [
       "49"
      ]
     },
     "execution_count": 9,
     "metadata": {},
     "output_type": "execute_result"
    }
   ],
   "source": [
    "2019 - 1970"
   ]
  },
  {
   "cell_type": "code",
   "execution_count": null,
   "metadata": {},
   "outputs": [],
   "source": []
  },
  {
   "cell_type": "markdown",
   "metadata": {},
   "source": [
    "- 10\n",
    "![](../Photo/84.png)"
   ]
  },
  {
   "cell_type": "code",
   "execution_count": 7,
   "metadata": {},
   "outputs": [
    {
     "name": "stdout",
     "output_type": "stream",
     "text": [
      "The first is :5\n",
      "The second is :2\n",
      "5+2=7 you win!\n"
     ]
    }
   ],
   "source": [
    "import random                \n",
    "random1 = random.randint(1,7)     \n",
    "random2 = random.randint(1,7)   \n",
    "random3 = random.randint(1,7) \n",
    "total = random1 + random2\n",
    "print('The first is :{}'.format(random1))\n",
    "print('The second is :{}'.format(random2))\n",
    "if total ==7 or total==11:     \n",
    "    print('{}+{}={} you win!'.format(random1,random2,total))\n",
    "elif total ==2 or total==3 or total ==12:      \n",
    "    print('{}+{}={} you lose!'.format(random1,random2,total))\n",
    "elif total==4 or total ==5 or total==6 or total==8 or total==9 or total==10:\n",
    "    total=total+random3\n",
    "    print('The third is :{}'.format(random3))\n",
    "    print('diercihe {}'.format(total))"
   ]
  },
  {
   "cell_type": "markdown",
   "metadata": {},
   "source": [
    "- 11 \n",
    "### 去网上寻找如何用Python代码发送邮件"
   ]
  },
  {
   "cell_type": "code",
   "execution_count": null,
   "metadata": {},
   "outputs": [],
   "source": [
    "1 #coding:utf-8   #强制使用utf-8编码格式\n",
    " 2 import smtplib  #加载smtplib模块\n",
    " 3 from email.mime.text import MIMEText\n",
    " 4 from email.utils import formataddr\n",
    " 5 my_sender='发件人邮箱账号' #发件人邮箱账号，为了后面易于维护，所以写成了变量\n",
    " 6 my_user='收件人邮箱账号' #收件人邮箱账号，为了后面易于维护，所以写成了变量\n",
    " 7 def mail():\n",
    " 8     ret=True\n",
    " 9     try:\n",
    "10         msg=MIMEText('填写邮件内容','plain','utf-8')\n",
    "11         msg['From']=formataddr([\"发件人邮箱昵称\",my_sender])   #括号里的对应发件人邮箱昵称、发件人邮箱账号\n",
    "12         msg['To']=formataddr([\"收件人邮箱昵称\",my_user])   #括号里的对应收件人邮箱昵称、收件人邮箱账号\n",
    "13         msg['Subject']=\"主题\" #邮件的主题，也可以说是标题\n",
    "14 \n",
    "15         server=smtplib.SMTP(\"smtp.xxx.com\",25)  #发件人邮箱中的SMTP服务器，端口是25\n",
    "16         server.login(my_sender,\"发件人邮箱密码\")    #括号中对应的是发件人邮箱账号、邮箱密码\n",
    "17         server.sendmail(my_sender,[my_user,],msg.as_string())   #括号中对应的是发件人邮箱账号、收件人邮箱账号、发送邮件\n",
    "18         server.quit()   #这句是关闭连接的意思\n",
    "19     except Exception:   #如果try中的语句没有执行，则会执行下面的ret=False\n",
    "20         ret=False\n",
    "21     return ret\n",
    "22 \n",
    "23 ret=mail()\n",
    "24 if ret:\n",
    "25     print(\"ok\") #如果发送成功则会返回ok，稍等20秒左右就可以收到邮件\n",
    "26 else:\n",
    "27     print(\"filed\")  #如果发送失败则会返回filed"
   ]
  }
 ],
 "metadata": {
  "kernelspec": {
   "display_name": "Python 3",
   "language": "python",
   "name": "python3"
  },
  "language_info": {
   "codemirror_mode": {
    "name": "ipython",
    "version": 3
   },
   "file_extension": ".py",
   "mimetype": "text/x-python",
   "name": "python",
   "nbconvert_exporter": "python",
   "pygments_lexer": "ipython3",
   "version": "3.7.3"
  }
 },
 "nbformat": 4,
 "nbformat_minor": 2
}
